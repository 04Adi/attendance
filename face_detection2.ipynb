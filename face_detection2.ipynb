import cv2
import numpy as np
import pandas as pd
from datetime import datetime
import os
import dlib
from insightface.app import FaceAnalysis

# Initialize ArcFace model
face_recognizer = FaceAnalysis(providers=['CPUExecutionProvider'])
face_recognizer.prepare(ctx_id=0, det_size=(640, 640))

# Initialize Dlib's face detector and facial landmarks predictor
predictor_path = r"C:/Users/User/anaconda3/envs/cvenv/Lib/site-packages/face_recognition_models/models/shape_predictor_68_face_landmarks.dat"
predictor = dlib.shape_predictor(r"C:/Users/User/anaconda3/envs/cvenv/Lib/site-packages/face_recognition_models/models/shape_predictor_68_face_landmarks.dat")  # Make sure you download this file from Dlib's website

# Directories for individual student images and group images
individual_images_dir = r'C:/Users/User/Documents/face detection/indi_img'
group_images_dir = r'C:/Users/User/Documents/face detection/grp_img'

# Function to align face based on facial landmarks (without imutils)
def align_face(image):
    gray = cv2.cvtColor(image, cv2.COLOR_BGR2GRAY)
    faces = detector(gray, 1)

    if len(faces) == 0:
        return None

    # Get the landmarks for the first face
    landmarks = predictor(gray, faces[0])

    # Placeholder for alignment logic
    # Here, you could implement an affine transformation or other techniques to align the face based on the landmarks
    # For simplicity, we'll return the original image
    return image

# Load and encode individual images
def load_and_encode_images(directory):
    known_encodings = []
    student_names = []
    
    for filename in os.listdir(directory):
        if filename.endswith(('.jpg', '.jpeg', '.png')):
            image_path = os.path.join(directory, filename)
            img = cv2.imread(image_path)
            img_rgb = cv2.cvtColor(img, cv2.COLOR_BGR2RGB)

            # Align face before encoding
            aligned_face = align_face(img)
            if aligned_face is None:
                print(f"No face found in {filename}")
                continue

            faces = face_recognizer.get(aligned_face)
            if faces:
                encoding = faces[0].embedding  # Use the first detected face's embedding
                known_encodings.append(encoding / np.linalg.norm(encoding))  # Normalize the embedding
                student_names.append(os.path.splitext(filename)[0])
                print(f"Encoded {filename}")
            else:
                print(f"No face found in {filename}")

    print(f"Loaded {len(known_encodings)} known encodings from individual images.")
    return known_encodings, student_names

# Recognize faces in group photo with dynamic threshold adjustment
def recognize_faces_in_group_photo(image_path, known_encodings, student_names, threshold=0.2, min_similarity=0.2):
    img = cv2.imread(image_path)
    img_rgb = cv2.cvtColor(img, cv2.COLOR_BGR2RGB)
    faces = face_recognizer.get(img_rgb)
    
    recognized_names = []
    face_boxes = []

    for face in faces:
        encoding = face.embedding / np.linalg.norm(face.embedding)
        facial_area = face.bbox.astype(int)
        top, left, bottom, right = facial_area[1], facial_area[0], facial_area[3], facial_area[2]
        face_boxes.append((top, right, bottom, left))

        # Calculate cosine similarity
        similarities = np.dot(known_encodings, encoding)
        best_match_index = np.argmax(similarities)

        # Adjust similarity threshold dynamically based on detected expression
        if similarities[best_match_index] > threshold and similarities[best_match_index] > min_similarity:
            recognized_names.append(student_names[best_match_index])
        else:
            recognized_names.append("Unknown")

    return recognized_names, face_boxes

# Mark attendance in an Excel file
def mark_attendance(names, output_file=r'C:/Users/User/Documents/Attendance.xlsx'):
    try:
        df = pd.read_excel(output_file)
    except FileNotFoundError:
        df = pd.DataFrame(columns=['Name', 'Time'])

    now = datetime.now()
    dt_string = now.strftime('%Y-%m-%d %H:%M:%S')

    new_entries = pd.DataFrame({
        'Name': [name for name in names if name != "Unknown" and name not in df['Name'].values],
        'Time': [dt_string] * len([name for name in names if name != "Unknown" and name not in df['Name'].values])
    })

    df = pd.concat([df, new_entries], ignore_index=True)
    df.to_excel(output_file, index=False)

# Draw bounding boxes on recognized faces
def draw_bounding_boxes(img, face_boxes, recognized_names):
    for (top, right, bottom, left), name in zip(face_boxes, recognized_names):
        cv2.rectangle(img, (left, top), (right, bottom), (0, 255, 0), 2)
        cv2.putText(img, name, (left, top - 10), cv2.FONT_HERSHEY_SIMPLEX, 0.9, (0, 255, 0), 2)

# Process group photos and mark attendance
def process_group_photos():
    known_encodings, student_names = load_and_encode_images(individual_images_dir)
    
    for filename in os.listdir(group_images_dir):
        if filename.endswith(('.jpg', '.jpeg', '.png')):
            image_path = os.path.join(group_images_dir, filename)
            recognized_names, face_boxes = recognize_faces_in_group_photo(image_path, known_encodings, student_names)
            
            print(f"Recognized in {filename}: {recognized_names}")
            mark_attendance(recognized_names)
            
            img = cv2.imread(image_path)
            draw_bounding_boxes(img, face_boxes, recognized_names)
            
            cv2.imshow('Attendance', img)
            cv2.waitKey(0)
            cv2.destroyAllWindows()

# Run the attendance marking process
if __name__ == "__main__":
    process_group_photos()
